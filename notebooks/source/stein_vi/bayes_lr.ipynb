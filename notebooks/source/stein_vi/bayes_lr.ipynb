{
 "cells": [
  {
   "cell_type": "code",
   "execution_count": 1,
   "metadata": {},
   "outputs": [
    {
     "ename": "ModuleNotFoundError",
     "evalue": "No module named 'numpyro.contrib.einstein.callbacks'",
     "output_type": "error",
     "traceback": [
      "\u001B[0;31m---------------------------------------------------------------------------\u001B[0m",
      "\u001B[0;31mModuleNotFoundError\u001B[0m                       Traceback (most recent call last)",
      "\u001B[0;32m/tmp/ipykernel_11397/2924380341.py\u001B[0m in \u001B[0;36m<module>\u001B[0;34m\u001B[0m\n\u001B[1;32m      8\u001B[0m \u001B[0;32mimport\u001B[0m \u001B[0mnumpyro\u001B[0m\u001B[0;34m.\u001B[0m\u001B[0mdistributions\u001B[0m \u001B[0;32mas\u001B[0m \u001B[0mdist\u001B[0m\u001B[0;34m\u001B[0m\u001B[0;34m\u001B[0m\u001B[0m\n\u001B[1;32m      9\u001B[0m \u001B[0;32mfrom\u001B[0m \u001B[0mnumpyro\u001B[0m \u001B[0;32mimport\u001B[0m \u001B[0mhandlers\u001B[0m\u001B[0;34m\u001B[0m\u001B[0;34m\u001B[0m\u001B[0m\n\u001B[0;32m---> 10\u001B[0;31m \u001B[0;32mfrom\u001B[0m \u001B[0mnumpyro\u001B[0m\u001B[0;34m.\u001B[0m\u001B[0mcontrib\u001B[0m\u001B[0;34m.\u001B[0m\u001B[0meinstein\u001B[0m\u001B[0;34m.\u001B[0m\u001B[0mcallbacks\u001B[0m \u001B[0;32mimport\u001B[0m \u001B[0mProgbar\u001B[0m\u001B[0;34m\u001B[0m\u001B[0;34m\u001B[0m\u001B[0m\n\u001B[0m\u001B[1;32m     11\u001B[0m \u001B[0;32mfrom\u001B[0m \u001B[0mnumpyro\u001B[0m\u001B[0;34m.\u001B[0m\u001B[0minfer\u001B[0m \u001B[0;32mimport\u001B[0m \u001B[0mTrace_ELBO\u001B[0m\u001B[0;34m\u001B[0m\u001B[0;34m\u001B[0m\u001B[0m\n\u001B[1;32m     12\u001B[0m \u001B[0;32mfrom\u001B[0m \u001B[0mnumpyro\u001B[0m\u001B[0;34m.\u001B[0m\u001B[0mcontrib\u001B[0m\u001B[0;34m.\u001B[0m\u001B[0meinstein\u001B[0m \u001B[0;32mimport\u001B[0m \u001B[0mkernels\u001B[0m\u001B[0;34m,\u001B[0m \u001B[0mStein\u001B[0m\u001B[0;34m\u001B[0m\u001B[0;34m\u001B[0m\u001B[0m\n",
      "\u001B[0;31mModuleNotFoundError\u001B[0m: No module named 'numpyro.contrib.einstein.callbacks'"
     ]
    }
   ],
   "source": [
    "from random import randint\n",
    "\n",
    "import jax\n",
    "import jax.numpy as jnp\n",
    "import scipy.io\n",
    "\n",
    "import numpyro\n",
    "import numpyro.distributions as dist\n",
    "from numpyro import handlers\n",
    "from numpyro.contrib.einstein.callbacks import Progbar\n",
    "from numpyro.infer import Trace_ELBO\n",
    "from numpyro.contrib.einstein import kernels, Stein\n",
    "from numpyro.infer.initialization import init_to_value, init_with_noise\n",
    "from numpyro.infer.autoguide import AutoDelta\n",
    "from numpyro.examples.datasets import LR_BANANA, LR_DIABETIS, LR_GERMAN, LR_IMAGE,\\\n",
    "                                      LR_RINGNORM, LR_SPLICE, LR_TWONORM, LR_WAVEFORM, load_dataset"
   ]
  },
  {
   "cell_type": "code",
   "execution_count": null,
   "metadata": {
    "tags": []
   },
   "outputs": [],
   "source": [
    "datasets = [LR_BANANA, LR_DIABETIS, LR_GERMAN, LR_IMAGE,\n",
    "            LR_RINGNORM, LR_SPLICE, LR_TWONORM, LR_WAVEFORM]"
   ]
  },
  {
   "cell_type": "code",
   "execution_count": null,
   "metadata": {},
   "outputs": [],
   "source": [
    "rng_key = jax.random.PRNGKey(randint(0, int(1e6)))\n",
    "num_iterations = 3000\n",
    "num_particles = 100"
   ]
  },
  {
   "cell_type": "code",
   "execution_count": null,
   "metadata": {},
   "outputs": [],
   "source": [
    "def model(data, classes=None):\n",
    "    alpha = numpyro.sample('alpha', dist.InverseGamma(concentration=1.0, rate=0.01))\n",
    "    w = numpyro.sample('w', dist.Normal(loc=jnp.zeros(data.shape[1]+1), scale=alpha))\n",
    "    with numpyro.plate('data', data.shape[0]):\n",
    "        biased_data = jnp.concatenate((jnp.ones((data.shape[0],1)), data), axis=1)\n",
    "        return numpyro.sample('x', dist.Bernoulli(logits=biased_data @ w), obs=classes)"
   ]
  },
  {
   "cell_type": "code",
   "execution_count": null,
   "metadata": {},
   "outputs": [],
   "source": [
    "def test_accuracy(model, guide, rng_key, testset, params, num_pred=100):\n",
    "    test_inp, test_clz = testset\n",
    "    def single_test_accuracy(rng_key, testset, params):\n",
    "        guide_trace = handlers.trace(handlers.substitute(guide, params)).get_trace(test_inp)\n",
    "        model_trace = handlers.trace(handlers.replay(handlers.seed(model, rng_key),\n",
    "                                                     guide_trace)).get_trace(test_inp)\n",
    "        accuracy = jnp.count_nonzero(model_trace['x']['value'] == test_clz) / test_inp.shape[0] * 100\n",
    "        return accuracy\n",
    "    accs = []\n",
    "    for i in range(num_particles):\n",
    "        ps = {k: param[i] for k, param in params.items()}\n",
    "        accs.append(jax.vmap(lambda rnk: single_test_accuracy(rnk, testset, ps))(jax.random.split(rng_key, num_pred)))\n",
    "    return jnp.mean(jnp.stack(accs))"
   ]
  },
  {
   "cell_type": "code",
   "execution_count": null,
   "metadata": {
    "tags": [],
    "pycharm": {
     "name": "#%%\n"
    }
   },
   "outputs": [],
   "source": [
    "for dataset in datasets:\n",
    "    _, get_train_batch = load_dataset(dataset, split='train')\n",
    "    train_inp, train_clz = get_train_batch()\n",
    "    print(dataset.name)\n",
    "    guide = AutoDelta(model)\n",
    "    svgd = Stein(model, guide, numpyro.optim.Adagrad(step_size=.05), Trace_ELBO(),\n",
    "                 kernels.RBFKernel(),\n",
    "                 init_strategy=init_with_noise(init_to_value(values={'x': -10.}), noise_scale=1.0),\n",
    "                 num_particles=num_particles,\n",
    "                 repulsion_temperature=train_inp.shape[0] ** -1)\n",
    "    svgd_state, loss = svgd.run(rng_key, num_iterations, train_inp, train_clz, callbacks=[Progbar()])\n",
    "    _, get_test_batch = load_dataset(dataset, split='test')\n",
    "    test_data = get_train_batch()\n",
    "    print(test_accuracy(model, guide, svgd_state.rng_key, test_data, svgd.get_params(svgd_state)))"
   ]
  },
  {
   "cell_type": "code",
   "execution_count": null,
   "metadata": {},
   "outputs": [],
   "source": []
  }
 ],
 "metadata": {
  "language_info": {
   "name": "python",
   "codemirror_mode": {
    "name": "ipython",
    "version": 3
   },
   "version": "3.8.10"
  },
  "orig_nbformat": 2,
  "file_extension": ".py",
  "mimetype": "text/x-python",
  "name": "python",
  "npconvert_exporter": "python",
  "pygments_lexer": "ipython3",
  "version": 3,
  "kernelspec": {
   "name": "python3",
   "language": "python",
   "display_name": "Python 3 (ipykernel)"
  },
  "interpreter": {
   "hash": "d19b053cbb5da89f88ae5a3e24550545bba4c215665dc8cf567ce47d9992e68d"
  }
 },
 "nbformat": 4,
 "nbformat_minor": 2
}