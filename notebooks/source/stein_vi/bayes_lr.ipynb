{
 "cells": [
  {
   "cell_type": "code",
   "execution_count": 1,
   "metadata": {},
   "outputs": [],
   "source": [
    "from random import randint\n",
    "\n",
    "import jax\n",
    "import jax.numpy as jnp\n",
    "import scipy.io\n",
    "\n",
    "import numpyro\n",
    "import numpyro.distributions as dist\n",
    "import numpyro.infer.kernels as kernels\n",
    "from numpyro import handlers\n",
    "from numpyro.callbacks import Progbar\n",
    "from numpyro.infer import ELBO, Stein\n",
    "from numpyro.infer.initialization import init_to_value, init_with_noise\n",
    "from numpyro.infer.autoguide import AutoDelta"
   ]
  },
  {
   "cell_type": "code",
   "execution_count": 2,
   "metadata": {},
   "outputs": [],
   "source": [
    "# From http://theoval.cmp.uea.ac.uk/matlab/default.html\n",
    "data = scipy.io.loadmat('data/benchmarks.mat')"
   ]
  },
  {
   "cell_type": "code",
   "execution_count": 3,
   "metadata": {
    "tags": []
   },
   "outputs": [],
   "source": [
    "datasets = {k: {'train': {'input': v['x'][0, 0][v['train'][0, 0][13, :] - 1], 'class': (v['t'][0, 0][v['train'][0, 0][13, :] - 1] == 1).astype('float')[:, 0]}, 'test': {'input': v['x'][0, 0][v['test'][0, 0][13, :] - 1], 'class': (v['t'][0, 0][v['test'][0, 0][13, :] - 1] == 1).astype('float')[:, 0]}} for k, v in data.items() if not str.startswith(k, \"__\") and not k == 'benchmarks' and v['x'][0, 0].shape[0] > 500}"
   ]
  },
  {
   "cell_type": "code",
   "execution_count": 4,
   "metadata": {},
   "outputs": [],
   "source": [
    "rng_key = jax.random.PRNGKey(randint(0, int(1e6)))\n",
    "num_iterations = 3000\n",
    "num_particles = 100"
   ]
  },
  {
   "cell_type": "code",
   "execution_count": 5,
   "metadata": {},
   "outputs": [],
   "source": [
    "def model(data, classes=None):\n",
    "    alpha = numpyro.sample('alpha', dist.InverseGamma(concentration=1.0, rate=0.01))\n",
    "    w = numpyro.sample('w', dist.Normal(loc=jnp.zeros(data.shape[1]+1), scale=alpha))\n",
    "    with numpyro.plate('data', data.shape[0]):\n",
    "        biased_data = jnp.concatenate((jnp.ones((data.shape[0],1)), data), axis=1)\n",
    "        return numpyro.sample('x', dist.Bernoulli(logits=biased_data @ w), obs=classes)"
   ]
  },
  {
   "cell_type": "code",
   "execution_count": 6,
   "metadata": {},
   "outputs": [],
   "source": [
    "def test_accuracy(model, guide, rng_key, testset, params, num_pred=100):\n",
    "    def single_test_accuracy(rng_key, testset, params):\n",
    "        guide_trace = handlers.trace(handlers.substitute(guide, params)).get_trace(testset['input'])\n",
    "        model_trace = handlers.trace(handlers.replay(handlers.seed(model, rng_key), guide_trace)).get_trace(testset['input'])\n",
    "        accuracy = jnp.count_nonzero(model_trace['x']['value'] == testset['class']) / testset['input'].shape[0] * 100\n",
    "        return accuracy\n",
    "    accs = []\n",
    "    for i in range(num_particles):\n",
    "        ps = {k: param[i] for k, param in params.items()}\n",
    "        accs.append(jax.vmap(lambda rnk: single_test_accuracy(rnk, testset, ps))(jax.random.split(rng_key, num_pred)))\n",
    "    return jnp.mean(jnp.stack(accs))"
   ]
  },
  {
   "cell_type": "code",
   "execution_count": 7,
   "metadata": {
    "tags": []
   },
   "outputs": [
    {
     "name": "stdout",
     "output_type": "stream",
     "text": [
      "banana\n",
      "50.0388\n",
      "diabetis\n",
      "69.037\n",
      "german\n",
      "66.606766\n",
      "image\n",
      "73.13408\n",
      "ringnorm\n",
      "67.8514\n",
      "splice\n",
      "80.49021\n",
      "twonorm\n",
      "94.92745\n",
      "waveform\n",
      "82.20442\n"
     ]
    },
    {
     "name": "stderr",
     "output_type": "stream",
     "text": [
      "/usr/local/Caskroom/miniconda/base/envs/numpyro-stein/lib/python3.8/site-packages/jax/numpy/lax_numpy.py:1621: FutureWarning: jax.numpy reductions won't accept lists and tuples in future versions, only scalars and ndarrays\n",
      "  warnings.warn(msg, category=FutureWarning)\n",
      "Stein 269.13: 100%|██████████| 3000/3000 [00:26<00:00, 113.97it/s]\n",
      "Stein 228.21: 100%|██████████| 3000/3000 [00:20<00:00, 145.42it/s]\n",
      "Stein 362.52: 100%|██████████| 3000/3000 [00:24<00:00, 122.35it/s]\n",
      "Stein 595.68: 100%|██████████| 3000/3000 [00:28<00:00, 103.68it/s]\n",
      "Stein 204.49: 100%|██████████| 3000/3000 [00:23<00:00, 128.35it/s]\n",
      "Stein 764.99: 100%|██████████| 3000/3000 [00:41<00:00, 72.62it/s]   \n",
      "Stein 92.452: 100%|██████████| 3000/3000 [00:23<00:00, 130.10it/s]\n",
      "Stein 155.47: 100%|██████████| 3000/3000 [00:24<00:00, 122.68it/s]\n"
     ]
    }
   ],
   "source": [
    "for name, dataset in datasets.items():\n",
    "    print(name)\n",
    "    guide = AutoDelta(model, init_strategy=init_with_noise(init_to_value(values={'x': -10.}), noise_scale=1.0))\n",
    "    svgd = Stein(model, guide, numpyro.optim.Adagrad(step_size=.05), ELBO(),\n",
    "                 kernels.RBFKernel(), num_particles=num_particles,\n",
    "                 repulsion_temperature=dataset['train']['input'].shape[0] ** -1)\n",
    "    svgd_state, loss = svgd.train(rng_key, num_iterations, dataset['train']['input'], dataset['train']['class'],\n",
    "                                  callbacks=[Progbar()])\n",
    "    print(test_accuracy(model, guide, svgd_state.rng_key, dataset['train'], svgd.get_params(svgd_state)))"
   ]
  },
  {
   "cell_type": "code",
   "execution_count": 7,
   "metadata": {},
   "outputs": [],
   "source": []
  }
 ],
 "metadata": {
  "language_info": {
   "name": "python",
   "codemirror_mode": {
    "name": "ipython",
    "version": 3
   },
   "version": "3.8.2-final"
  },
  "orig_nbformat": 2,
  "file_extension": ".py",
  "mimetype": "text/x-python",
  "name": "python",
  "npconvert_exporter": "python",
  "pygments_lexer": "ipython3",
  "version": 3,
  "kernelspec": {
   "name": "python3",
   "language": "python",
   "display_name": "Python 3"
  }
 },
 "nbformat": 4,
 "nbformat_minor": 2
}