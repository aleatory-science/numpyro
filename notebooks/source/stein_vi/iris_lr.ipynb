{
 "cells": [
  {
   "cell_type": "code",
   "execution_count": null,
   "metadata": {},
   "outputs": [],
   "source": [
    "import jax\n",
    "import jax.numpy as jnp\n",
    "import numpy as np\n",
    "import seaborn as sns\n",
    "from sklearn.datasets import load_iris\n",
    "from sklearn.model_selection import train_test_split\n",
    "\n",
    "import numpyro\n",
    "import numpyro.distributions as dist\n",
    "from numpyro.contrib.einstein.callbacks import Progbar\n",
    "from numpyro.infer import Trace_ELBO\n",
    "from numpyro.contrib.einstein import Stein,  RBFKernel\n",
    "from numpyro.optim import Adam"
   ]
  },
  {
   "cell_type": "code",
   "execution_count": null,
   "metadata": {},
   "outputs": [],
   "source": [
    "data = load_iris(as_frame=True)\n",
    "X_train, X_test, y_train, y_test = \\\n",
    "    train_test_split(data.data, data.target)\n",
    "data_plot = X_train.copy()\n",
    "data_plot['species'] = y_train\n",
    "sns.pairplot(data_plot, hue='species', corner=True)"
   ]
  },
  {
   "cell_type": "code",
   "execution_count": null,
   "metadata": {},
   "outputs": [],
   "source": [
    "def model(X, y=None):\n",
    "    W1 = numpyro.sample('W1', dist.Normal(jnp.zeros((4, 3)), jnp.ones((4, 3))).to_event(2))\n",
    "    b1 = numpyro.sample('b1', dist.Normal(jnp.zeros(3), jnp.ones(3)).to_event(1))\n",
    "    logodds = X @ W1 + b1\n",
    "    with numpyro.plate('data', X.shape[0]):\n",
    "        numpyro.sample('y', dist.Categorical(logits=logodds), obs=y)"
   ]
  },
  {
   "cell_type": "code",
   "execution_count": null,
   "metadata": {},
   "outputs": [],
   "source": [
    "def guide(X, y=None):\n",
    "    W1loc = numpyro.param('W1loc', jnp.zeros((4, 3)))\n",
    "    W1scale = numpyro.param('W1scale', jnp.ones((4, 3)),\n",
    "                            constraint=dist.constraints.positive)\n",
    "    b1loc = numpyro.param('b1loc', jnp.zeros(3))\n",
    "    b1scale = numpyro.param('b1scale', jnp.ones(3),\n",
    "                            constraint=dist.constraints.positive)\n",
    "    W1 = numpyro.sample('W1', dist.Normal(W1loc, W1scale).to_event(2))\n",
    "    b1 = numpyro.sample('b1', dist.Normal(b1loc, b1scale).to_event(1))"
   ]
  },
  {
   "cell_type": "code",
   "execution_count": null,
   "metadata": {},
   "outputs": [],
   "source": [
    "svgd = Stein(model,guide, Adam(0.1), Trace_ELBO(), RBFKernel(),\n",
    "             num_particles=100)\n",
    "state, loss = svgd.run(jax.random.PRNGKey(1337), 15_000, X_train.to_numpy(), y_train.to_numpy(),\n",
    "                       callbacks=[Progbar()])"
   ]
  },
  {
   "cell_type": "code",
   "execution_count": null,
   "metadata": {},
   "outputs": [],
   "source": [
    "y_pred = svgd.predict(state, X_test.to_numpy())['y']\n",
    "print(f\"Accuracy: {np.mean(y_pred == y_test.to_numpy())*100:.2f} %\")"
   ]
  },
  {
   "cell_type": "code",
   "execution_count": null,
   "metadata": {},
   "outputs": [],
   "source": []
  }
 ],
 "metadata": {
  "language_info": {
   "codemirror_mode": {
    "name": "ipython",
    "version": 3
   },
   "file_extension": ".py",
   "mimetype": "text/x-python",
   "name": "python",
   "nbconvert_exporter": "python",
   "pygments_lexer": "ipython3",
   "version": "3.8.10"
  },
  "orig_nbformat": 2,
  "kernelspec": {
   "name": "python3",
   "display_name": "Python 3.8.10 64-bit ('numpyro-stein': conda)"
  },
  "interpreter": {
   "hash": "d19b053cbb5da89f88ae5a3e24550545bba4c215665dc8cf567ce47d9992e68d"
  }
 },
 "nbformat": 4,
 "nbformat_minor": 2
}