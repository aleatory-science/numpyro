{
 "cells": [
  {
   "cell_type": "code",
   "execution_count": null,
   "metadata": {},
   "outputs": [],
   "source": [
    "import jax\n",
    "import jax.numpy as jnp\n",
    "import matplotlib.pyplot as plt\n",
    "import numpy as np\n",
    "from jax import lax\n",
    "from jax import scipy as jscipy\n",
    "\n",
    "import numpyro\n",
    "import numpyro.distributions as dist\n",
    "from numpyro.distributions import constraints\n",
    "from numpyro.infer import Trace_ELBO\n",
    "from numpyro.infer.autoguide import AutoDelta\n",
    "from numpyro.infer.initialization import init_to_value, init_with_noise\n",
    "from numpyro.contrib.einstein import kernels, Stein\n",
    "from numpyro.contrib.einstein.callbacks import Progbar\n",
    "from numpyro.optim import Adagrad"
   ]
  },
  {
   "cell_type": "code",
   "execution_count": null,
   "metadata": {},
   "outputs": [],
   "source": [
    "rng_key = jax.random.PRNGKey(42)"
   ]
  },
  {
   "cell_type": "markdown",
   "metadata": {},
   "source": [
    "# Sine Model"
   ]
  },
  {
   "cell_type": "code",
   "execution_count": null,
   "metadata": {},
   "outputs": [],
   "source": [
    "class Sine(dist.Distribution):\n",
    "    support = constraints.real\n",
    "    def __init__(self, alpha=jnp.array(1.), sigma1=jnp.array(3e-3), sigma2=jnp.array(1.0), validate_args=None):\n",
    "        batch_shape = lax.broadcast_shapes(jnp.shape(alpha), jnp.shape(sigma1), jnp.shape(sigma2))\n",
    "        self.alpha = jnp.broadcast_to(alpha, batch_shape)\n",
    "        self.sigma1 = jnp.broadcast_to(sigma1, batch_shape)\n",
    "        self.sigma2 = jnp.broadcast_to(sigma2, batch_shape)\n",
    "        super(Sine, self).__init__(batch_shape=batch_shape, validate_args=validate_args)\n",
    "\n",
    "    def log_prob(self, value):\n",
    "        return jnp.where(jnp.logical_and(jnp.all(-1 <= value, axis=-1), jnp.all(value <= 1, axis=-1)),\n",
    "                        - (value[..., 1] + jnp.sin(self.alpha * value[..., 0])) ** 2 / (2 * self.sigma1) -\n",
    "                          (value[..., 0] ** 2 + value[..., 1] ** 2) / (2 * self.sigma2),\n",
    "                        -10e3)\n",
    "\n",
    "    def sample(self, key, sample_shape=()):\n",
    "        xs = jnp.array(np.linspace(-1, 1, num=100))\n",
    "        ys = jnp.array(np.linspace(-1, 1, num=100))\n",
    "        zs = jnp.stack(jnp.meshgrid(xs, ys), axis=-1)\n",
    "        logits = jnp.expand_dims(jnp.ravel(self.log_prob(zs)), axis=0)\n",
    "        cs = dist.Categorical(logits=logits).sample(key, sample_shape)\n",
    "        res = jnp.concatenate(jnp.divmod(cs, zs.shape[0]), axis=-1).astype('float32') /\\\n",
    "              jnp.array([jnp.max(xs) - jnp.min(xs), jnp.max(ys) - jnp.min(ys)]) + jnp.array([jnp.min(xs), jnp.min(ys)])\n",
    "        return res"
   ]
  },
  {
   "cell_type": "code",
   "execution_count": null,
   "metadata": {},
   "outputs": [],
   "source": [
    "sine_xs = np.linspace(-1, 1, num=100)\n",
    "sine_ys = np.linspace(-1, 1, num=100)\n",
    "sine_zs = np.stack(np.meshgrid(sine_xs, sine_ys), axis=-1)\n",
    "sine_lps = np.exp(Sine().log_prob(sine_zs))\n",
    "plt.imshow(sine_lps, origin='lower', interpolation='bicubic', extent=[np.min(sine_xs), np.max(sine_xs),\n",
    "                                                                      np.min(sine_ys), np.max(sine_ys)])\n",
    "plt.show()"
   ]
  },
  {
   "cell_type": "code",
   "execution_count": null,
   "metadata": {},
   "outputs": [],
   "source": [
    "num_iterations = 30"
   ]
  },
  {
   "cell_type": "code",
   "execution_count": null,
   "metadata": {},
   "outputs": [],
   "source": [
    "def model():\n",
    "    numpyro.sample('x', Sine())\n",
    "guide = AutoDelta(model)"
   ]
  },
  {
   "cell_type": "code",
   "execution_count": null,
   "metadata": {},
   "outputs": [],
   "source": [
    "svgd = Stein(model,\n",
    "             guide,\n",
    "             Adagrad(step_size=0.1),\n",
    "             Trace_ELBO(),\n",
    "             kernels.RBFKernel(),\n",
    "             init_strategy=init_with_noise(init_to_value(values={'x': jnp.array([0., 0.])}), noise_scale=1.0),\n",
    "             num_particles=50\n",
    ")"
   ]
  },
  {
   "cell_type": "code",
   "execution_count": null,
   "metadata": {
    "tags": []
   },
   "outputs": [],
   "source": [
    "svgd_state, loss = svgd.run(rng_key, num_iterations, callbacks=[Progbar()])\n",
    "res = svgd.get_params(svgd_state)['x_auto_loc']\n",
    "plt.clf()\n",
    "plt.imshow(sine_lps, origin='lower', interpolation='bicubic', extent=[np.min(sine_xs), np.max(sine_xs),\n",
    "                                                                      np.min(sine_ys), np.max(sine_ys)])\n",
    "plt.scatter(res[..., 0], res[..., 1], c='orange', marker='x')\n",
    "plt.xlim((np.min(sine_xs), np.max(sine_xs)))\n",
    "plt.ylim((np.min(sine_ys), np.max(sine_ys)))\n",
    "plt.show()"
   ]
  },
  {
   "cell_type": "code",
   "execution_count": null,
   "metadata": {},
   "outputs": [],
   "source": [
    "svgd = Stein(model, guide, Adagrad(step_size=0.1), Trace_ELBO(),\n",
    "             kernels.PrecondMatrixKernel(kernels.HessianPrecondMatrix(), kernels.RBFKernel(mode='matrix'),\n",
    "                                        precond_mode='const'),\n",
    "            num_particles=50)"
   ]
  },
  {
   "cell_type": "code",
   "execution_count": null,
   "metadata": {
    "tags": []
   },
   "outputs": [],
   "source": [
    "svgd_state, loss = svgd.run(rng_key, num_iterations, callbacks=[Progbar()])\n",
    "res = svgd.get_params(svgd_state)['x_auto_loc']\n",
    "plt.clf()\n",
    "plt.imshow(sine_lps, origin='lower', interpolation='bicubic', extent=[np.min(sine_xs), np.max(sine_xs),\n",
    "                                                                      np.min(sine_ys), np.max(sine_ys)])\n",
    "plt.scatter(res[..., 0], res[..., 1], c='orange', marker='x')\n",
    "plt.xlim((np.min(sine_xs), np.max(sine_xs)))\n",
    "plt.ylim((np.min(sine_ys), np.max(sine_ys)))\n",
    "plt.show()"
   ]
  },
  {
   "cell_type": "code",
   "execution_count": null,
   "metadata": {},
   "outputs": [],
   "source": [
    "svgd = Stein(model, guide, Adagrad(step_size=0.5), Trace_ELBO(),\n",
    "             kernel_fn=kernels.PrecondMatrixKernel(kernels.HessianPrecondMatrix(),\n",
    "                                                   kernels.RBFKernel(mode='matrix'),\n",
    "                                                   precond_mode='anchor_points'),\n",
    "             num_particles=50)"
   ]
  },
  {
   "cell_type": "code",
   "execution_count": null,
   "metadata": {
    "tags": []
   },
   "outputs": [],
   "source": [
    "svgd_state, loss = svgd.run(rng_key, num_iterations, callbacks=[Progbar()])\n",
    "res = svgd.get_params(svgd_state)['x_auto_loc']\n",
    "plt.clf()\n",
    "plt.imshow(sine_lps, origin='lower', interpolation='bicubic', extent=[np.min(sine_xs), np.max(sine_xs),\n",
    "                                                                      np.min(sine_ys), np.max(sine_ys)])\n",
    "plt.scatter(res[..., 0], res[..., 1], c='orange', marker='x')\n",
    "plt.xlim((np.min(sine_xs), np.max(sine_xs)))\n",
    "plt.ylim((np.min(sine_ys), np.max(sine_ys)))\n",
    "plt.show()"
   ]
  },
  {
   "cell_type": "markdown",
   "metadata": {},
   "source": [
    "# Double Banana Model"
   ]
  },
  {
   "cell_type": "code",
   "execution_count": null,
   "metadata": {},
   "outputs": [],
   "source": [
    "class DoubleBanana(dist.Distribution):\n",
    "    support = constraints.real\n",
    "    def __init__(self, y=jnp.log(30.), sigma1=jnp.array(1.0), sigma2=jnp.array(9e-2), validate_args=None):\n",
    "        batch_shape = lax.broadcast_shapes(jnp.shape(y), jnp.shape(sigma1), jnp.shape(sigma2))\n",
    "        self.y = jnp.broadcast_to(y, batch_shape)\n",
    "        self.sigma1 = jnp.broadcast_to(sigma1, batch_shape)\n",
    "        self.sigma2 = jnp.broadcast_to(sigma2, batch_shape)\n",
    "        super(DoubleBanana, self).__init__(batch_shape=batch_shape, validate_args=validate_args)\n",
    "\n",
    "    def log_prob(self, value):\n",
    "        fx = jnp.log((1 - value[..., 0]) ** 2.0 + 100 * (value[..., 1] - value[..., 0] ** 2.0) ** 2.0)\n",
    "        return - jnp.sqrt(value[..., 0] ** 2.0 + value[..., 1] ** 2.0) ** 2.0 / (2.0 * self.sigma1) -\\\n",
    "                 (self.y - fx) ** 2.0 / (2.0 * self.sigma2)\n",
    "\n",
    "\n",
    "    def sample(self, key, sample_shape=()):\n",
    "        xs = jnp.array(np.linspace(-1.5, 1.5, num=100))\n",
    "        ys = jnp.array(np.linspace(-1, 2, num=100))\n",
    "        zs = jnp.stack(jnp.meshgrid(xs, ys), axis=-1)\n",
    "        logits = jnp.expand_dims(jnp.ravel(self.log_prob(zs)), axis=0)\n",
    "        cs = dist.Categorical(logits=logits).sample(key, sample_shape)\n",
    "        res = jnp.concatenate(jnp.divmod(cs, zs.shape[0]), axis=-1).astype('float32') /\\\n",
    "              jnp.array([jnp.max(xs) - jnp.min(xs), jnp.max(ys) - jnp.min(ys)]) + jnp.array([jnp.min(xs), jnp.min(ys)])\n",
    "        return res"
   ]
  },
  {
   "cell_type": "code",
   "execution_count": null,
   "metadata": {},
   "outputs": [],
   "source": [
    "db_xs = np.linspace(-1.5, 1.5, num=100)\n",
    "db_ys = np.linspace(-1, 2, num=100)\n",
    "db_zs = np.stack(np.meshgrid(db_xs, db_ys), axis=-1)\n",
    "db_lps = np.exp(DoubleBanana().log_prob(db_zs))\n",
    "plt.imshow(db_lps, origin='lower', interpolation='bicubic', extent=[np.min(db_xs), np.max(db_xs),\n",
    "                                                                    np.min(db_ys), np.max(db_ys)])\n",
    "plt.show()"
   ]
  },
  {
   "cell_type": "code",
   "execution_count": null,
   "metadata": {},
   "outputs": [],
   "source": [
    "num_iterations = 100"
   ]
  },
  {
   "cell_type": "code",
   "execution_count": null,
   "metadata": {},
   "outputs": [],
   "source": [
    "def model():\n",
    "    numpyro.sample('x', DoubleBanana())\n",
    "guide = AutoDelta(model)"
   ]
  },
  {
   "cell_type": "code",
   "execution_count": null,
   "metadata": {},
   "outputs": [],
   "source": [
    "svgd = Stein(model, guide, Adagrad(step_size=1.0), Trace_ELBO(), kernels.RBFKernel(),\n",
    "             num_particles=50,\n",
    "             init_strategy=init_with_noise(init_to_value(values={'x': jnp.array([0., 0.])}), noise_scale=3.0))"
   ]
  },
  {
   "cell_type": "code",
   "execution_count": null,
   "metadata": {
    "tags": []
   },
   "outputs": [],
   "source": [
    "svgd_state, loss = svgd.run(rng_key, num_iterations, callbacks=[Progbar()])\n",
    "res = svgd.get_params(svgd_state)['x_auto_loc']\n",
    "plt.clf()\n",
    "plt.imshow(db_lps, origin='lower', interpolation='bicubic', extent=[np.min(db_xs), np.max(db_xs),\n",
    "                                                                    np.min(db_ys), np.max(db_ys)])\n",
    "plt.scatter(res[..., 0], res[..., 1], c='orange', marker='x')\n",
    "plt.xlim((np.min(db_xs), np.max(db_xs)))\n",
    "plt.ylim((np.min(db_ys), np.max(db_ys)))\n",
    "plt.show()"
   ]
  },
  {
   "cell_type": "code",
   "execution_count": null,
   "metadata": {},
   "outputs": [],
   "source": [
    "svgd = Stein(model, guide, Adagrad(step_size=1.0), Trace_ELBO(),\n",
    "             kernel_fn=kernels.PrecondMatrixKernel(kernels.HessianPrecondMatrix(),\n",
    "                                         kernels.RBFKernel(mode='matrix'),\n",
    "                                        precond_mode='const'), num_particles=50)"
   ]
  },
  {
   "cell_type": "code",
   "execution_count": null,
   "metadata": {
    "tags": []
   },
   "outputs": [],
   "source": [
    "svgd_state, loss = svgd.run(rng_key, num_iterations, callbacks=[Progbar()])\n",
    "res = svgd.get_params(svgd_state)['x_auto_loc']\n",
    "plt.clf()\n",
    "plt.imshow(db_lps, origin='lower', interpolation='bicubic', extent=[np.min(db_xs), np.max(db_xs),\n",
    "                                                                    np.min(db_ys), np.max(db_ys)])\n",
    "plt.scatter(res[..., 0], res[..., 1], c='orange', marker='x')\n",
    "plt.xlim((np.min(db_xs), np.max(db_xs)))\n",
    "plt.ylim((np.min(db_ys), np.max(db_ys)))\n",
    "plt.show()"
   ]
  },
  {
   "cell_type": "code",
   "execution_count": null,
   "metadata": {},
   "outputs": [],
   "source": [
    "svgd = Stein(model, guide, Adagrad(step_size=.8), Trace_ELBO(),\n",
    "             kernel_fn=kernels.PrecondMatrixKernel(kernels.HessianPrecondMatrix(),\n",
    "                                                   kernels.RBFKernel(mode='matrix'),\n",
    "                                                   precond_mode='anchor_points'),\n",
    "             num_particles=50)"
   ]
  },
  {
   "cell_type": "code",
   "execution_count": null,
   "metadata": {
    "tags": []
   },
   "outputs": [],
   "source": [
    "svgd_state, loss = svgd.run(rng_key, num_iterations, callbacks=[Progbar()])\n",
    "res = svgd.get_params(svgd_state)['x_auto_loc']\n",
    "plt.clf()\n",
    "plt.imshow(db_lps, origin='lower', extent=[np.min(db_xs), np.max(db_xs),\n",
    "                                           np.min(db_ys), np.max(db_ys)])\n",
    "plt.scatter(res[..., 0], res[..., 1], c='orange', marker='x')\n",
    "plt.xlim((np.min(db_xs), np.max(db_xs)))\n",
    "plt.ylim((np.min(db_ys), np.max(db_ys)))\n",
    "plt.show()"
   ]
  },
  {
   "cell_type": "markdown",
   "metadata": {},
   "source": [
    "# Star Model"
   ]
  },
  {
   "cell_type": "code",
   "execution_count": null,
   "metadata": {},
   "outputs": [],
   "source": [
    "class Star(dist.Distribution):\n",
    "    support = constraints.real\n",
    "    def __init__(self, mu0=jnp.array([0., 1.5]), cov0=jnp.diag(jnp.array([1e-2, 0.25])), n_comp=5, validate_args=None):\n",
    "        batch_shape = lax.broadcast_shapes(jnp.shape(mu0)[:-1], jnp.shape(cov0)[:-2])\n",
    "        mu0 = jnp.broadcast_to(mu0, batch_shape + jnp.shape(mu0)[-1:])\n",
    "        cov0 = jnp.broadcast_to(cov0, batch_shape + jnp.shape(cov0)[-2:])\n",
    "        self.n_comp = n_comp\n",
    "        mus = [mu0]\n",
    "        covs = [cov0]\n",
    "        theta = 2 * jnp.pi / n_comp\n",
    "        rot = jnp.array([[jnp.cos(theta), -jnp.sin(theta)], [jnp.sin(theta), jnp.cos(theta)]])\n",
    "        for i in range(n_comp - 1):\n",
    "            mui = rot @ mus[-1]\n",
    "            covi = rot @ covs[-1] @ rot.transpose()\n",
    "            mus.append(mui)\n",
    "            covs.append(covi)\n",
    "        self.mus = jnp.stack(mus)\n",
    "        self.covs = jnp.stack(covs)\n",
    "        super(Star, self).__init__(batch_shape=batch_shape, validate_args=validate_args)\n",
    "\n",
    "    def log_prob(self, value):\n",
    "        lps = []\n",
    "        for i in range(self.n_comp):\n",
    "            lps.append(dist.MultivariateNormal(self.mus[i], self.covs[i]).log_prob(value))\n",
    "        return jscipy.special.logsumexp(jnp.stack(lps, axis=0), axis=0) / self.n_comp\n",
    "\n",
    "    def sample(self, key, sample_shape=()):\n",
    "        zs = dist.Categorical(probs=jnp.array([1/self.n_comp] * self.n_comp)).sample(key, sample_shape)\n",
    "        xs = jnp.stack([dist.MultivariateNormal(self.mus[i], self.covs[i]).sample(key, sample_shape)\n",
    "                       for i in range(self.n_comp)], axis=0)\n",
    "        return jnp.take_along_axis(xs, jnp.expand_dims(jnp.expand_dims(zs, axis=-1), axis=-1), axis=0)"
   ]
  },
  {
   "cell_type": "code",
   "execution_count": null,
   "metadata": {},
   "outputs": [],
   "source": [
    "star_xs = np.linspace(-3, 3, num=100)\n",
    "star_ys = np.linspace(-3, 3, num=100)\n",
    "star_zs = np.stack(np.meshgrid(star_xs, star_ys), axis=-1)\n",
    "star_lps = np.exp(Star().log_prob(star_zs))\n",
    "plt.clf()\n",
    "plt.imshow(star_lps, origin='lower', interpolation='bicubic', extent=[np.min(star_xs), np.max(star_xs),\n",
    "                                                                      np.min(star_ys), np.max(star_ys)])\n",
    "plt.show()"
   ]
  },
  {
   "cell_type": "code",
   "execution_count": null,
   "metadata": {},
   "outputs": [],
   "source": [
    "num_iterations = 60"
   ]
  },
  {
   "cell_type": "code",
   "execution_count": null,
   "metadata": {},
   "outputs": [],
   "source": [
    "def model():\n",
    "    numpyro.sample('x', Star())\n",
    "guide = AutoDelta(model)"
   ]
  },
  {
   "cell_type": "code",
   "execution_count": null,
   "metadata": {},
   "outputs": [],
   "source": [
    "svgd = Stein(model,\n",
    "             guide,\n",
    "             Adagrad(step_size=1.0),\n",
    "             Trace_ELBO(),\n",
    "             kernels.RBFKernel(),\n",
    "             num_particles=50,\n",
    "             init_strategy=init_with_noise(init_to_value(values={'x': np.array([[0., 0.]])}), noise_scale=3.0))"
   ]
  },
  {
   "cell_type": "code",
   "execution_count": null,
   "metadata": {
    "tags": []
   },
   "outputs": [],
   "source": [
    "svgd_state, loss = svgd.run(rng_key, num_iterations, callbacks=[Progbar()])\n",
    "res = svgd.get_params(svgd_state)['x_auto_loc']\n",
    "plt.clf()\n",
    "plt.imshow(star_lps, origin='lower', interpolation='bicubic', extent=[np.min(star_xs), np.max(star_xs),\n",
    "                                                                      np.min(star_ys), np.max(star_ys)])\n",
    "plt.scatter(res[..., 0], res[..., 1], c='orange', marker='x')\n",
    "plt.xlim((np.min(star_xs), np.max(star_xs)))\n",
    "plt.ylim((np.min(star_ys), np.max(star_ys)))\n",
    "plt.show()"
   ]
  },
  {
   "cell_type": "code",
   "execution_count": null,
   "metadata": {},
   "outputs": [],
   "source": [
    "svgd = Stein(model, guide, Adagrad(step_size=0.5), Trace_ELBO(),\n",
    "             kernels.PrecondMatrixKernel(kernels.HessianPrecondMatrix(), kernels.RBFKernel(mode='matrix'),\n",
    "                                         precond_mode='const'),\n",
    "             num_particles=50)"
   ]
  },
  {
   "cell_type": "code",
   "execution_count": null,
   "metadata": {
    "tags": []
   },
   "outputs": [],
   "source": [
    "svgd_state, loss = svgd.run(rng_key, num_iterations, callbacks=[Progbar()])\n",
    "res = svgd.get_params(svgd_state)['x_auto_loc']\n",
    "plt.clf()\n",
    "plt.imshow(star_lps, origin='lower', interpolation='bicubic', extent=[np.min(star_xs), np.max(star_xs),\n",
    "                                                                      np.min(star_ys), np.max(star_ys)])\n",
    "plt.scatter(res[..., 0], res[..., 1], c='orange', marker='x')\n",
    "plt.xlim((np.min(star_xs), np.max(star_xs)))\n",
    "plt.ylim((np.min(star_ys), np.max(star_ys)))\n",
    "plt.show()"
   ]
  },
  {
   "cell_type": "code",
   "execution_count": null,
   "metadata": {},
   "outputs": [],
   "source": [
    "svgd = Stein(model, guide, Adagrad(step_size=0.8), Trace_ELBO(),\n",
    "             kernels.PrecondMatrixKernel(kernels.HessianPrecondMatrix(), kernels.RBFKernel(mode='matrix'),\n",
    "                                         precond_mode='anchor_points'),\n",
    "             num_particles=50)"
   ]
  },
  {
   "cell_type": "code",
   "execution_count": null,
   "metadata": {
    "tags": []
   },
   "outputs": [],
   "source": [
    "svgd_state, loss = svgd.run(rng_key, num_iterations, callbacks=[Progbar()])\n",
    "res = svgd.get_params(svgd_state)['x_auto_loc']\n",
    "plt.clf()\n",
    "plt.imshow(star_lps, origin='lower', interpolation='bicubic', extent=[np.min(star_xs), np.max(star_xs),\n",
    "                                                                      np.min(star_ys), np.max(star_ys)])\n",
    "plt.scatter(res[..., 0], res[..., 1], c='orange', marker='x')\n",
    "plt.xlim((np.min(star_xs), np.max(star_xs)))\n",
    "plt.ylim((np.min(star_ys), np.max(star_ys)))\n",
    "plt.show()"
   ]
  },
  {
   "cell_type": "code",
   "execution_count": null,
   "metadata": {},
   "outputs": [],
   "source": [
    "svgd = Stein(model, guide, Adagrad(step_size=0.8), ELBO(),\n",
    "             kernels.RBFKernel(),\n",
    "             num_particles=50,\n",
    "             num_mcmc_particles=5, sp_mode='global',\n",
    "             num_mcmc_updates=100)"
   ]
  },
  {
   "cell_type": "code",
   "execution_count": null,
   "metadata": {
    "tags": [],
    "pycharm": {
     "name": "#%%\n"
    }
   },
   "outputs": [],
   "source": [
    "svgd_state, loss = svgd.run(rng_key, num_iterations, callbacks=[Progbar()])\n",
    "res = svgd.get_params(svgd_state)['x_auto_loc']\n",
    "plt.clf()\n",
    "plt.imshow(star_lps, origin='lower', interpolation='bicubic', extent=[np.min(star_xs), np.max(star_xs),\n",
    "                                                                      np.min(star_ys), np.max(star_ys)])\n",
    "plt.scatter(res[..., 0], res[..., 1], c='orange', marker='x')\n",
    "plt.xlim((np.min(star_xs), np.max(star_xs)))\n",
    "plt.ylim((np.min(star_ys), np.max(star_ys)))\n",
    "plt.show()"
   ]
  }
 ],
 "metadata": {
  "file_extension": ".py",
  "kernelspec": {
   "name": "python3",
   "display_name": "Python 3.8.10 64-bit ('numpyro-stein': conda)"
  },
  "language_info": {
   "codemirror_mode": {
    "name": "ipython",
    "version": 3
   },
   "file_extension": ".py",
   "mimetype": "text/x-python",
   "name": "python",
   "nbconvert_exporter": "python",
   "pygments_lexer": "ipython3",
   "version": "3.8.10"
  },
  "mimetype": "text/x-python",
  "name": "python",
  "npconvert_exporter": "python",
  "pygments_lexer": "ipython3",
  "version": 3,
  "interpreter": {
   "hash": "d19b053cbb5da89f88ae5a3e24550545bba4c215665dc8cf567ce47d9992e68d"
  }
 },
 "nbformat": 4,
 "nbformat_minor": 2
}