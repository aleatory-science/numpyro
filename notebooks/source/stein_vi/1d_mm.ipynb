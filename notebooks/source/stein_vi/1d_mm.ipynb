{
 "cells": [
  {
   "cell_type": "code",
   "execution_count": null,
   "metadata": {},
   "outputs": [],
   "source": [
    "import jax\n",
    "import jax.numpy as jnp\n",
    "import matplotlib.pyplot as plt\n",
    "import seaborn as sns\n",
    "\n",
    "import numpyro\n",
    "from numpyro.contrib.einstein import Stein, kernels\n",
    "from numpyro.contrib.einstein.callbacks import Progbar\n",
    "from numpyro.distributions import NormalMixture\n",
    "from numpyro.infer import Trace_ELBO, SVI\n",
    "from numpyro.infer.autoguide import AutoDelta\n",
    "from numpyro.infer.initialization import init_with_noise, init_to_value"
   ]
  },
  {
   "cell_type": "code",
   "execution_count": null,
   "metadata": {},
   "outputs": [],
   "source": [
    "rng_key = jax.random.PRNGKey(42)\n",
    "num_iterations = 1500"
   ]
  },
  {
   "cell_type": "code",
   "execution_count": null,
   "metadata": {
    "pycharm": {
     "name": "#%%\n"
    }
   },
   "outputs": [],
   "source": [
    "def model():\n",
    "    numpyro.sample('x', NormalMixture(jnp.array([1 / 3, 2 / 3]),\n",
    "                                      jnp.array([-2., 2.]), jnp.array([1., 1.])))\n",
    "\n",
    "\n",
    "guide = AutoDelta(model)\n",
    "init_strategy = init_with_noise(init_to_value(values={'x': -10.}), noise_scale=1.0)"
   ]
  },
  {
   "cell_type": "code",
   "execution_count": null,
   "outputs": [],
   "source": [
    "kernels_fns = {'rbf_kernel': kernels.RBFKernel(),\n",
    "               'linear_kernel': kernels.LinearKernel(),\n",
    "               'random_kernel': kernels.RandomFeatureKernel(),\n",
    "               'imq_kernel': kernels.IMQKernel(),\n",
    "               'matrix_kernel': kernels.MixtureKernel([0.5, 0.5],\n",
    "                                                      [kernels.LinearKernel(),\n",
    "                                                       kernels.RandomFeatureKernel()])}\n",
    "\n",
    "for label, kernel_fn in kernels_fns.items():\n",
    "    svgd = Stein(model, guide, numpyro.optim.Adagrad(step_size=1.0), Trace_ELBO(),\n",
    "                 kernel_fn, init_strategy=init_strategy, num_particles=100)\n",
    "    state, _ = svgd.run(rng_key, num_iterations, callbacks=[Progbar()])\n",
    "    sns.kdeplot(x=svgd.get_params(state)['x_auto_loc'], label=label)\n",
    "    plt.legend()\n",
    "    plt.show()\n",
    "    plt.clf()"
   ],
   "metadata": {
    "collapsed": false,
    "pycharm": {
     "name": "#%%\n"
    }
   }
  },
  {
   "cell_type": "code",
   "execution_count": null,
   "metadata": {},
   "outputs": [],
   "source": []
  }
 ],
 "metadata": {
  "language_info": {
   "name": "python",
   "codemirror_mode": {
    "name": "ipython",
    "version": 3
   },
   "version": "3.8.10"
  },
  "orig_nbformat": 2,
  "file_extension": ".py",
  "mimetype": "text/x-python",
  "name": "python",
  "npconvert_exporter": "python",
  "pygments_lexer": "ipython3",
  "version": 3,
  "kernelspec": {
   "name": "python3",
   "display_name": "Python 3.8.2 64-bit"
  },
  "interpreter": {
   "hash": "d19b053cbb5da89f88ae5a3e24550545bba4c215665dc8cf567ce47d9992e68d"
  }
 },
 "nbformat": 4,
 "nbformat_minor": 2
}