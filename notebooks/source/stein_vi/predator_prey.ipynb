{
 "cells": [
  {
   "cell_type": "markdown",
   "metadata": {},
   "source": [
    "# Predator-Prey model with triangular transport map\n",
    "Based on \"Transport map accelerated Markov chain Monte Carlo\" by Parno and Marzouk (SIAM/ASA Journal on Uncertainty Quantification 2018)"
   ]
  },
  {
   "cell_type": "code",
   "execution_count": 1,
   "metadata": {},
   "outputs": [
    {
     "name": "stdout",
     "output_type": "stream",
     "text": [
      "env: JAX_DEBUG_NANS=True\n"
     ]
    },
    {
     "ename": "ImportError",
     "evalue": "cannot import name 'MultivariateAffineTransform' from 'numpyro.distributions.transforms' (/Users/asal/Documents/SourceControl/numpyro/numpyro/distributions/transforms.py)",
     "output_type": "error",
     "traceback": [
      "\u001B[0;31m---------------------------------------------------------------------------\u001B[0m",
      "\u001B[0;31mImportError\u001B[0m                               Traceback (most recent call last)",
      "\u001B[0;32m<ipython-input-1-e2af3609e7fc>\u001B[0m in \u001B[0;36m<module>\u001B[0;34m\u001B[0m\n\u001B[1;32m     12\u001B[0m \u001B[0;32mimport\u001B[0m \u001B[0mnumpyro\u001B[0m\u001B[0;34m\u001B[0m\u001B[0;34m\u001B[0m\u001B[0m\n\u001B[1;32m     13\u001B[0m \u001B[0;32mfrom\u001B[0m \u001B[0mnumpyro\u001B[0m \u001B[0;32mimport\u001B[0m \u001B[0mdistributions\u001B[0m \u001B[0;32mas\u001B[0m \u001B[0mdist\u001B[0m\u001B[0;34m\u001B[0m\u001B[0;34m\u001B[0m\u001B[0m\n\u001B[0;32m---> 14\u001B[0;31m \u001B[0;32mfrom\u001B[0m \u001B[0mnumpyro\u001B[0m\u001B[0;34m.\u001B[0m\u001B[0mdistributions\u001B[0m\u001B[0;34m.\u001B[0m\u001B[0mtransforms\u001B[0m \u001B[0;32mimport\u001B[0m \u001B[0mMultivariateAffineTransform\u001B[0m\u001B[0;34m\u001B[0m\u001B[0;34m\u001B[0m\u001B[0m\n\u001B[0m\u001B[1;32m     15\u001B[0m \u001B[0;32mfrom\u001B[0m \u001B[0mnumpyro\u001B[0m\u001B[0;34m.\u001B[0m\u001B[0minfer\u001B[0m\u001B[0;34m.\u001B[0m\u001B[0mguide\u001B[0m \u001B[0;32mimport\u001B[0m \u001B[0mWrappedGuide\u001B[0m\u001B[0;34m\u001B[0m\u001B[0;34m\u001B[0m\u001B[0m\n\u001B[1;32m     16\u001B[0m \u001B[0;32mfrom\u001B[0m \u001B[0mnumpyro\u001B[0m\u001B[0;34m.\u001B[0m\u001B[0mcontrib\u001B[0m\u001B[0;34m.\u001B[0m\u001B[0mautoguide\u001B[0m \u001B[0;32mimport\u001B[0m \u001B[0mAutoDelta\u001B[0m\u001B[0;34m\u001B[0m\u001B[0;34m\u001B[0m\u001B[0m\n",
      "\u001B[0;31mImportError\u001B[0m: cannot import name 'MultivariateAffineTransform' from 'numpyro.distributions.transforms' (/Users/asal/Documents/SourceControl/numpyro/numpyro/distributions/transforms.py)"
     ]
    }
   ],
   "source": [
    "from tqdm import tqdm\n",
    "from numpyro.util import safe_mul, safe_div\n",
    "\n",
    "%env JAX_DEBUG_NANS=True\n",
    "import jax\n",
    "import jax.ops\n",
    "import jax.numpy as jnp\n",
    "import pandas as pd\n",
    "import seaborn as sns\n",
    "from functools import partial\n",
    "\n",
    "import numpyro\n",
    "from numpyro import distributions as dist\n",
    "from numpyro.distributions.transforms import MultivariateAffineTransform\n",
    "from numpyro.infer.guide import WrappedGuide\n",
    "from numpyro.contrib.autoguide import AutoDelta\n",
    "from numpyro.examples.runge_kutta import runge_kutta_4\n",
    "from numpyro.infer import init_to_uniform, init_with_noise, SVI, Stein, ELBO\n",
    "from numpyro.infer.kernels import RBFKernel\n",
    "from numpyro.callbacks import Progbar\n",
    "from numpyro.optim import Adam"
   ]
  },
  {
   "cell_type": "code",
   "execution_count": null,
   "metadata": {},
   "outputs": [],
   "source": [
    "rng_key = jax.random.PRNGKey(242)"
   ]
  },
  {
   "cell_type": "markdown",
   "metadata": {},
   "source": [
    "## Predator Prey Model"
   ]
  },
  {
   "cell_type": "code",
   "execution_count": null,
   "metadata": {},
   "outputs": [],
   "source": [
    "def predator_prey_step(t, state, r=0.6, k=100, s=1.2, a=25, u=0.5, v=0.3):\n",
    "    prey = state[..., 0]\n",
    "    predator = state[..., 1]\n",
    "    sh = safe_div(safe_mul(prey, predator), a + prey)\n",
    "    prey_upd = r * safe_mul(prey, safe_div(1 - prey, k)) - s * sh\n",
    "    predator_upd = u * sh - v * predator\n",
    "    return jnp.stack((prey_upd, predator_upd), axis=-1)\n",
    "num_time = 5\n",
    "step_size = 0.1\n",
    "num_steps = int(num_time / step_size)\n",
    "dampening_rate = 0.9\n",
    "lyapunov_scale = 1e-3\n",
    "clip = lambda x: jnp.clip(x, -10.0, 10.0)\n",
    "predator_prey = runge_kutta_4(predator_prey_step, step_size, num_steps, dampening_rate, \n",
    "                              lyapunov_scale, clip,\n",
    "                              unconstrain_fn=lambda _, x: jnp.where(x < 10, jnp.log(jnp.expm1(x)), x),\n",
    "                              constrain_fn=lambda _, x: jax.nn.softplus(x))\n",
    "predator_prey = partial(predator_prey, rng_key)"
   ]
  },
  {
   "cell_type": "code",
   "execution_count": null,
   "metadata": {},
   "outputs": [],
   "source": [
    "indices = jnp.array([1, 11, 21, 31, 41])\n",
    "res, lyapunov_loss = predator_prey(jnp.array([50., 5.]))\n",
    "# res = np.reshape(res, (num_time, num_steps // num_time, -1))[:, 0, :]\n",
    "noise = jax.random.normal(rng_key, (1000,5,2)) * 10\n",
    "data = (indices, res[indices] + noise)\n",
    "data"
   ]
  },
  {
   "cell_type": "code",
   "execution_count": null,
   "metadata": {},
   "outputs": [],
   "source": [
    "def model(indices, observations):\n",
    "    prior_dist = dist.HalfNormal(1000)\n",
    "    prey0 = numpyro.sample('prey0', prior_dist)\n",
    "    predator0 = numpyro.sample('predator0', prior_dist)\n",
    "    r = numpyro.sample('r', prior_dist)\n",
    "    k = numpyro.sample('k', prior_dist)\n",
    "    s = numpyro.sample('s', prior_dist)\n",
    "    a = numpyro.sample('a', prior_dist)\n",
    "    u = numpyro.sample('u', prior_dist)\n",
    "    v = numpyro.sample('v', prior_dist)\n",
    "    ppres, lyapunov_loss = predator_prey(jnp.array([prey0, predator0]), r=r, k=k, s=s, a=a, u=u, v=v)\n",
    "    # ppres = np.reshape(ppres, (num_time, num_time // num_steps, -1))\n",
    "    numpyro.factor('lyapunov_loss', lyapunov_loss)\n",
    "    numpyro.sample('obs', dist.Normal(ppres[indices], 10.0).to_event(2), obs=observations)"
   ]
  },
  {
   "cell_type": "markdown",
   "metadata": {},
   "source": [
    "### SVI"
   ]
  },
  {
   "cell_type": "code",
   "execution_count": null,
   "metadata": {},
   "outputs": [],
   "source": [
    "svi = SVI(model, AutoDelta(model), Adam(0.1), ELBO())\n",
    "state = svi.init(rng_key, *data)\n",
    "pbar = tqdm(range(27))\n",
    "prev_state = state\n",
    "for i in pbar:\n",
    "    prev_state = state\n",
    "    state, loss = svi.update(state, *data)\n",
    "    pbar.set_description(f'SVI {loss}')"
   ]
  },
  {
   "cell_type": "code",
   "execution_count": null,
   "outputs": [],
   "source": [
    "from jaxinterp.interpreter import interpret\n",
    "_, rng_key_debug = jax.random.split(prev_state.rng_key)\n",
    "params = svi.optim.get_params(prev_state.optim_state)\n",
    "grad_fun = lambda params, *data: jax.value_and_grad(lambda x: svi.loss.loss(rng_key_debug, svi.constrain_fn(x),\n",
    "                                                    svi.model, svi.guide, *data))(params)"
   ],
   "metadata": {
    "collapsed": false,
    "pycharm": {
     "name": "#%%\n"
    }
   }
  },
  {
   "cell_type": "code",
   "execution_count": null,
   "outputs": [],
   "source": [
    "svi.evaluate(prev_state, *data)"
   ],
   "metadata": {
    "collapsed": false,
    "pycharm": {
     "name": "#%%\n"
    }
   }
  },
  {
   "cell_type": "code",
   "execution_count": null,
   "outputs": [],
   "source": [
    "params"
   ],
   "metadata": {
    "collapsed": false,
    "pycharm": {
     "name": "#%%\n"
    }
   }
  },
  {
   "cell_type": "code",
   "execution_count": null,
   "outputs": [],
   "source": [
    "grad_fun(params, *data)"
   ],
   "metadata": {
    "collapsed": false,
    "pycharm": {
     "name": "#%%\n"
    }
   }
  },
  {
   "cell_type": "code",
   "execution_count": null,
   "outputs": [],
   "source": [
    "interpret(grad_fun, stage_out=True)(params, *data)"
   ],
   "metadata": {
    "collapsed": false,
    "pycharm": {
     "name": "#%%\n"
    }
   }
  },
  {
   "cell_type": "code",
   "execution_count": null,
   "outputs": [],
   "source": [
    "state, loss = svi.update(state, *data)\n",
    "print(loss)\n",
    "svi.get_params(state)\n",
    "\n"
   ],
   "metadata": {
    "collapsed": false,
    "pycharm": {
     "name": "#%%\n"
    }
   }
  },
  {
   "cell_type": "markdown",
   "metadata": {
    "pycharm": {
     "name": "#%% md\n"
    }
   },
   "source": [
    "### Guide and Stein with Transport Maps"
   ]
  },
  {
   "cell_type": "code",
   "execution_count": null,
   "metadata": {
    "pycharm": {
     "name": "#%%\n"
    }
   },
   "outputs": [],
   "source": [
    "stein = Stein(model, AutoDelta(model),\n",
    "             Adam(0.1), ELBO(),\n",
    "             RBFKernel(), num_particles=100,\n",
    "             repulsion_temperature=0.001 * data[1].shape[0])\n",
    "state, loss = stein.train(rng_key, 10, *data, callbacks=[Progbar()])  # rounds 10000"
   ]
  },
  {
   "cell_type": "code",
   "execution_count": null,
   "metadata": {},
   "outputs": [],
   "source": [
    "sample_frame = pd.DataFrame.from_dict(stein.predict(state, *data))\n",
    "g = sns.pairplot(sample_frame, corner=True, diag_kind='kde')\n",
    "g.map_lower(sns.kdeplot, lw=2)"
   ]
  },
  {
   "cell_type": "code",
   "execution_count": null,
   "metadata": {},
   "outputs": [],
   "source": [
    "def transmap_guide(indices, observations):\n",
    "    param_keys = {'prey0', 'preadtor0', 'r', 'k', 's', 'a', 'u', 'v'}\n",
    "    n = len(param_keys)\n",
    "    tmapp = numpyro.param('tmapp', jnp.zeros(n * (n + 1) // 2))\n",
    "    tril_idx = jnp.tril_indices(n)\n",
    "    tmap = jax.ops.index_update(jnp.zeros((n, n)), tril_idx, tmapp)\n",
    "    tloc = numpyro.param('tloc', jnp.zeros(n))\n",
    "    vals = numpyro.param('vals', jnp.zeros(n),\n",
    "                         particle_transform=MultivariateAffineTransform(tloc, tmap),\n",
    "                         constraint=dist.constraints.greater_than(0.1))\n",
    "    for pk, val in zip(param_keys, vals):\n",
    "        numpyro.sample(pk, dist.Delta(val))"
   ]
  },
  {
   "cell_type": "code",
   "execution_count": null,
   "metadata": {},
   "outputs": [],
   "source": [
    "svgd = Stein(model, WrappedGuide(transmap_guide, init_strategy=init_with_noise(init_to_uniform())),\n",
    "             Adam(0.1), ELBO(),\n",
    "             RBFKernel(), repulsion_temperature=0.01 * data[1].shape[0],\n",
    "             num_particles=100, classic_guide_params_fn=lambda n: n in {'tmapp', 'tloc'})\n",
    "state, loss = svgd.train(rng_key, 10000, *data, callbacks=[Progbar()])"
   ]
  },
  {
   "cell_type": "markdown",
   "metadata": {},
   "source": [
    "sample_frame = pd.DataFrame(svgd.predict(state, *data))\n",
    "g = sns.pairplot(sample_frame, corner=True, diag_kind='kde')\n",
    "g.map_lower(sns.kdeplot, lw=2)"
   ]
  },
  {
   "cell_type": "code",
   "execution_count": null,
   "metadata": {},
   "outputs": [],
   "source": [
    "mcmc = numpyro.infer.MCMC(numpyro.infer.NUTS(model), 100, 500, chain_method='vectorized')\n",
    "mcmc.run(rng_key, *data)\n",
    "mcmc.print_summary()"
   ]
  },
  {
   "cell_type": "code",
   "execution_count": null,
   "metadata": {},
   "outputs": [],
   "source": [
    "samples = mcmc.get_samples()\n",
    "sample_frame = pd.DataFrame(samples)\n",
    "g = sns.pairplot(sample_frame, corner=True, diag_kind='kde')\n",
    "g.map_lower(sns.kdeplot, lw=2)"
   ]
  },
  {
   "cell_type": "code",
   "execution_count": null,
   "metadata": {},
   "outputs": [],
   "source": []
  }
 ],
 "metadata": {
  "kernelspec": {
   "display_name": "Python 3",
   "language": "python",
   "name": "python3"
  },
  "language_info": {
   "codemirror_mode": {
    "name": "ipython",
    "version": 3
   },
   "file_extension": ".py",
   "mimetype": "text/x-python",
   "name": "python",
   "nbconvert_exporter": "python",
   "pygments_lexer": "ipython3",
   "version": "3.8.3-final"
  }
 },
 "nbformat": 4,
 "nbformat_minor": 2
}